{
  "nbformat": 4,
  "nbformat_minor": 0,
  "metadata": {
    "colab": {
      "name": "Twitter",
      "provenance": []
    },
    "kernelspec": {
      "name": "python3",
      "display_name": "Python 3"
    },
    "language_info": {
      "name": "python"
    }
  },
  "cells": [
    {
      "cell_type": "code",
      "execution_count": null,
      "metadata": {
        "colab": {
          "base_uri": "https://localhost:8080/"
        },
        "id": "oSihMt3bSVl2",
        "outputId": "c176e941-b043-4ea1-c9d2-c0b7e8bd7935"
      },
      "outputs": [
        {
          "output_type": "stream",
          "name": "stdout",
          "text": [
            "18839785\n",
            "The number of followers of the user are : 75006665\n"
          ]
        }
      ],
      "source": [
        "# import the module\n",
        "import tweepy\n",
        "\n",
        "# assign the values accordingly\n",
        "consumer_key = \"qw5KC89NAb5lN5XRr7nBAeQEH\"\n",
        "consumer_secret = \"RzOr24dOPkLfCCiv1RJO4YRpDSTjCoLgIwCTMgEbFEgfmRQ37V\"\n",
        "access_token = \"1469636396625190912-PEauwt2b9eZ02bj0hpqDSfQporW5gH\"\n",
        "access_token_secret = \"kDPHlxyooIQUCPLDuQvHtxjj0MGysyXMfYiW9cER3L9kz\"\n",
        "  \n",
        "# authorization of consumer key and consumer secret\n",
        "auth = tweepy.OAuthHandler(consumer_key, consumer_secret)\n",
        "# set access to user's access key and access secret \n",
        "auth.set_access_token(access_token, access_token_secret)\n",
        "  \n",
        "# calling the api \n",
        "api = tweepy.API(auth)\n",
        "  \n",
        "# the ID of the user\n",
        "ids=int(input())\n",
        "id = ids\n",
        "  \n",
        "# fetching the user\n",
        "user = api.get_user(id)\n",
        "  \n",
        "# fetching the followers_count\n",
        "followers_count = user.followers_count\n",
        "  \n",
        "print(\"The number of followers of the user are : \" + str(followers_count))"
      ]
    }
  ]
}